{
 "cells": [
  {
   "cell_type": "markdown",
   "metadata": {},
   "source": [
    "# Q0: import dash standard libraries"
   ]
  },
  {
   "cell_type": "code",
   "execution_count": 1,
   "metadata": {},
   "outputs": [],
   "source": [
    "import dash\n",
    "from dash import html\n",
    "from dash import dcc\n",
    "from jupyter_dash import JupyterDash\n",
    "from dash.dependencies import Input, Output"
   ]
  },
  {
   "cell_type": "markdown",
   "metadata": {},
   "source": [
    "# Q1: Make dash that prints \"Data Science\""
   ]
  },
  {
   "cell_type": "code",
   "execution_count": null,
   "metadata": {},
   "outputs": [],
   "source": [
    "app = JupyterDash('print')\n",
    "\n",
    "app.layout = html.Div([\n",
    "        html.H1('Data Science')\n",
    "        ])\n",
    "\n",
    "if __name__ == '__main__':\n",
    "    app.run_server()"
   ]
  },
  {
   "cell_type": "markdown",
   "metadata": {},
   "source": [
    "# Q2: Make dash that takes name input and outpt \"Welcome to Data Science dashboard {name}\""
   ]
  },
  {
   "cell_type": "code",
   "execution_count": null,
   "metadata": {},
   "outputs": [],
   "source": [
    "app = JupyterDash('input')\n",
    "\n",
    "app.layout = html.Div([\n",
    "        dcc.Input(value='',id='input-box', type='text', placeholder='Enter your name'),\n",
    "        html.Button('Submit', id='submit_button'),\n",
    "        html.Div(id='output-container')\n",
    "])\n",
    "\n",
    "@app.callback(\n",
    "    dash.dependencies.Output('output-container', 'children'),\n",
    "    [dash.dependencies.Input('submit_button', 'n_clicks')],\n",
    "    [dash.dependencies.State('input-box', 'value')])\n",
    "\n",
    "def update_output(n_clicks, value):\n",
    "    if n_clicks is not None:\n",
    "        return 'Welcome to Data Science dashboard {}'.format(value)\n",
    "    \n",
    "\n",
    "if __name__ == '__main__':\n",
    "    app.run_server()"
   ]
  },
  {
   "cell_type": "markdown",
   "metadata": {},
   "source": [
    "# Q3: Make Plotly-Dash that takes two inputs (numbers) and output 3 numbers x, y , z= x+y\n",
    "- hint: use html.Div, dcc.Input(type='number')"
   ]
  },
  {
   "cell_type": "code",
   "execution_count": null,
   "metadata": {},
   "outputs": [],
   "source": [
    "app = JupyterDash('input')\n",
    "\n",
    "\n",
    "\n",
    "app.layout = html.Div([\n",
    "    html.Div([\n",
    "        html.Label('Enter the first number :'),\n",
    "        dcc.Input(id='num1', type='number', value=0),\n",
    "    ]),\n",
    "    html.Div([\n",
    "        html.Label('Enter the second number :'),\n",
    "        dcc.Input(id='num2', type='number', value=0),\n",
    "    ]),\n",
    "    html.Div(id='output')\n",
    "])\n",
    "\n",
    "@app.callback(\n",
    "    dash.dependencies.Output('output', 'children'),\n",
    "    [dash.dependencies.Input('num1', 'value'),\n",
    "     dash.dependencies.Input('num2', 'value')])\n",
    "\n",
    "def update_output(input1, input2):\n",
    "    x = input1 \n",
    "    y = input2  \n",
    "    z = x + y\n",
    "    return 'x =  {}, y =  {}, z =  {}'.format(x, y, z)\n",
    "\n",
    "if __name__ == '__main__':\n",
    "    app.run_server()\n"
   ]
  },
  {
   "cell_type": "markdown",
   "metadata": {},
   "source": [
    "# Q4.1: Make JubyterDash with Rangeslider from 1-15 with 6 option"
   ]
  },
  {
   "cell_type": "code",
   "execution_count": null,
   "metadata": {},
   "outputs": [],
   "source": [
    "app = JupyterDash('Test')\n",
    "\n",
    "app.layout = html.Div([\n",
    "    html.Label('This is a Range Slider :'),\n",
    "    \n",
    "    dcc.RangeSlider(1, 15, 3, value=[1, 15], id='range_slider'),\n",
    "    ])\n",
    "\n",
    "if __name__ == '__main__':\n",
    "    app.run_server()\n"
   ]
  },
  {
   "cell_type": "markdown",
   "metadata": {},
   "source": [
    "# Q4.2: add to the previous dash: Label, set default value on rangeslider as 7-10"
   ]
  },
  {
   "cell_type": "code",
   "execution_count": null,
   "metadata": {},
   "outputs": [],
   "source": [
    "app = JupyterDash('Test')\n",
    "\n",
    "app.layout = html.Div([\n",
    "    html.Label('Range Slider with Default Value'),\n",
    "    \n",
    "    dcc.RangeSlider(1, 15, 3, value=[7, 10], id='range_slider'),  \n",
    "])\n",
    "\n",
    "if __name__ == '__main_"
   ]
  },
  {
   "cell_type": "markdown",
   "metadata": {},
   "source": [
    "# Q5: Make 3 different Dcc types (Dropdown - Checkbox...) in one dash"
   ]
  },
  {
   "cell_type": "code",
   "execution_count": null,
   "metadata": {},
   "outputs": [],
   "source": [
    "app = JupyterDash('Test')\n",
    "\n",
    "app.layout = html.Div([\n",
    "    html.Label('Select a City :'),\n",
    "    dcc.Dropdown(\n",
    "        id='dropdown',\n",
    "        options=[\n",
    "            {'label': 'Riyadh', 'value': 'riyadh'},\n",
    "            {'label': 'Almadinah', 'value': 'medinah'},\n",
    "            {'label': 'Jeddah', 'value': 'jeddah'}\n",
    "        ],\n",
    "        value='riyadh'\n",
    "    ),\n",
    "    html.Br(),\n",
    "    \n",
    "    html.Label('Select a City'),\n",
    "    dcc.Checklist(\n",
    "        options=[\n",
    "            {'label': 'Riyadh', 'value': 'riyadh'},\n",
    "            {'label': 'Almadinah', 'value': 'medinah'},\n",
    "            {'label': 'Jeddah', 'value': 'jeddah'}\n",
    "        ],\n",
    "       value=['riyadh','jeddah']\n",
    "    ),\n",
    "    html.Br(),\n",
    "\n",
    "    \n",
    "    html.Label('Select a City'),\n",
    "    dcc.RadioItems(\n",
    "        options=[\n",
    "            {'label': 'Riyadh', 'value': 'riyadh'},\n",
    "            {'label': 'Almadinah', 'value': 'medinah'},\n",
    "            {'label': 'Jeddah', 'value': 'jeddah'}\n",
    "        ],\n",
    "        value='riyadh'\n",
    "    )\n",
    "    \n",
    "])\n",
    "\n",
    "if __name__ == '__main__':\n",
    "    app.run_server()\n",
    "\n",
    "   "
   ]
  },
  {
   "cell_type": "markdown",
   "metadata": {},
   "source": [
    "# Q6: Make Plotly chart, then add it to a plotly_dash"
   ]
  },
  {
   "cell_type": "code",
   "execution_count": 2,
   "metadata": {},
   "outputs": [],
   "source": [
    "fig = px.scatter(x=[1, 2, 3, 4], y=[5, 6, 7, 8])\n",
    "\n",
    "app = JupyterDash('Test')\n",
    "app.layout = html.Div([\n",
    "    dcc.Graph(figure=fig)\n",
    "])\n",
    "\n",
    "if __name__ == '__main__':\n",
    "    app.run_server()\n"
   ]
  },
  {
   "cell_type": "markdown",
   "metadata": {},
   "source": [
    "# Q7: From our data make plotly-dash with suitble chart, and Dropdown.\n",
    "\n",
    "- Dropdown should contain at least 3 options, each one represents different column.\n",
    "- Add label to dropdown.\n",
    "- The chart data should change depending on the selected dropdown option."
   ]
  },
  {
   "cell_type": "code",
   "execution_count": 2,
   "metadata": {},
   "outputs": [],
   "source": [
    "import pandas as pd\n",
    "import plotly.express as px\n",
    "\n",
    "df = pd.read_csv(\"titanic passenger list.csv\")"
   ]
  },
  {
   "cell_type": "code",
   "execution_count": null,
   "metadata": {},
   "outputs": [],
   "source": [
    "import plotly.graph_objects as go\n",
    "\n",
    "scatter_trace = go.Scatter(df, x='Fare', y='Age')\n",
    "histogram = go.histogram(df, x='Age', nbins=50)\n",
    "strip =     go.strip(train, x='Sex', y=\"Age\", color='Survived')\n",
    "\n",
    "\n",
    "app = dash.Dash(__name__)\n",
    "\n",
    "app.layout = html.Div([\n",
    "    dcc.Dropdown(\n",
    "        id='chart-dropdown',\n",
    "        options=[{'label': 'scatter', 'value': 'chart1'},\n",
    "                 {'label': 'histogram', 'value': 'chart2'},\n",
    "                 {'label': 'strip', 'value': 'chart3'}],\n",
    "        value='chart1'\n",
    "    ),\n",
    "    dcc.Graph(id='chart')\n",
    "])\n",
    "\n",
    "@app.callback(\n",
    "    dash.dependencies.Output('chart', 'figure'),\n",
    "    [dash.dependencies.Input('chart-dropdown', 'value')]\n",
    ")\n",
    "def update_chart(selected_chart):\n",
    "    if selected_chart == 'scatter':\n",
    "        fig = scatter_trace\n",
    "    elif selected_chart == 'histogram':\n",
    "        fig = histogram \n",
    "    else:\n",
    "        fig = strip\n",
    "    return fig\n",
    "\n",
    "if __name__ == '__main__':\n",
    "    app.run_server()\n",
    "\n"
   ]
  },
  {
   "cell_type": "code",
   "execution_count": null,
   "metadata": {
    "scrolled": false
   },
   "outputs": [],
   "source": []
  },
  {
   "cell_type": "markdown",
   "metadata": {},
   "source": [
    "# Q8: add 2 more charts to the prevoius Ploty-Dash"
   ]
  },
  {
   "cell_type": "markdown",
   "metadata": {},
   "source": [
    "# Q9: Search for \"Plotly Gallery\" and fetch for a graph and use it with our data.\n",
    "\n",
    "- Note: You need to put the resourse addres of fetched your grapth."
   ]
  },
  {
   "cell_type": "code",
   "execution_count": null,
   "metadata": {},
   "outputs": [],
   "source": []
  },
  {
   "cell_type": "markdown",
   "metadata": {},
   "source": [
    "# Challenge 1.1: Create Plotly dash with two charts depends on different columns of the data\n",
    "- First Chart : Pie\n",
    "- Secound Chart: is by your Choice ( Not Pie )"
   ]
  },
  {
   "cell_type": "code",
   "execution_count": null,
   "metadata": {},
   "outputs": [],
   "source": []
  },
  {
   "cell_type": "markdown",
   "metadata": {},
   "source": [
    "# Challenge 1.2: Make Hovering over a slice of the pie changes the data for the second chart depending on what the slice is."
   ]
  },
  {
   "cell_type": "code",
   "execution_count": null,
   "metadata": {},
   "outputs": [],
   "source": []
  }
 ],
 "metadata": {
  "kernelspec": {
   "display_name": "Python 3 (ipykernel)",
   "language": "python",
   "name": "python3"
  },
  "language_info": {
   "codemirror_mode": {
    "name": "ipython",
    "version": 3
   },
   "file_extension": ".py",
   "mimetype": "text/x-python",
   "name": "python",
   "nbconvert_exporter": "python",
   "pygments_lexer": "ipython3",
   "version": "3.11.4"
  }
 },
 "nbformat": 4,
 "nbformat_minor": 2
}
